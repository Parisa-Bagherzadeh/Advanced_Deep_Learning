{
  "cells": [
    {
      "cell_type": "code",
      "execution_count": 54,
      "metadata": {
        "id": "i4cfy17Jc27z"
      },
      "outputs": [],
      "source": [
        "import numpy as np\n",
        "import pandas as pd\n",
        "import matplotlib.pyplot as plt\n",
        "from tqdm import tqdm\n",
        "import tensorflow as tf\n",
        "from keras.layers import Dense\n",
        "\n"
      ]
    },
    {
      "cell_type": "code",
      "execution_count": 55,
      "metadata": {},
      "outputs": [],
      "source": [
        "\n",
        "import tensorflow as tf\n",
        "from tensorflow.keras.layers import Dense"
      ]
    },
    {
      "cell_type": "code",
      "execution_count": 56,
      "metadata": {
        "colab": {
          "base_uri": "https://localhost:8080/",
          "height": 504
        },
        "id": "TqPmfsfkaMJE",
        "outputId": "98747764-4d1e-4ea2-be6c-3bb22ee8c789"
      },
      "outputs": [
        {
          "data": {
            "text/html": [
              "<div>\n",
              "<style scoped>\n",
              "    .dataframe tbody tr th:only-of-type {\n",
              "        vertical-align: middle;\n",
              "    }\n",
              "\n",
              "    .dataframe tbody tr th {\n",
              "        vertical-align: top;\n",
              "    }\n",
              "\n",
              "    .dataframe thead th {\n",
              "        text-align: right;\n",
              "    }\n",
              "</style>\n",
              "<table border=\"1\" class=\"dataframe\">\n",
              "  <thead>\n",
              "    <tr style=\"text-align: right;\">\n",
              "      <th></th>\n",
              "      <th>PassengerId</th>\n",
              "      <th>Survived</th>\n",
              "      <th>Pclass</th>\n",
              "      <th>Name</th>\n",
              "      <th>Sex</th>\n",
              "      <th>Age</th>\n",
              "      <th>SibSp</th>\n",
              "      <th>Parch</th>\n",
              "      <th>Ticket</th>\n",
              "      <th>Fare</th>\n",
              "      <th>Cabin</th>\n",
              "      <th>Embarked</th>\n",
              "    </tr>\n",
              "  </thead>\n",
              "  <tbody>\n",
              "    <tr>\n",
              "      <th>0</th>\n",
              "      <td>1</td>\n",
              "      <td>0</td>\n",
              "      <td>3</td>\n",
              "      <td>Braund, Mr. Owen Harris</td>\n",
              "      <td>male</td>\n",
              "      <td>22.0</td>\n",
              "      <td>1</td>\n",
              "      <td>0</td>\n",
              "      <td>A/5 21171</td>\n",
              "      <td>7.2500</td>\n",
              "      <td>NaN</td>\n",
              "      <td>S</td>\n",
              "    </tr>\n",
              "    <tr>\n",
              "      <th>1</th>\n",
              "      <td>2</td>\n",
              "      <td>1</td>\n",
              "      <td>1</td>\n",
              "      <td>Cumings, Mrs. John Bradley (Florence Briggs Th...</td>\n",
              "      <td>female</td>\n",
              "      <td>38.0</td>\n",
              "      <td>1</td>\n",
              "      <td>0</td>\n",
              "      <td>PC 17599</td>\n",
              "      <td>71.2833</td>\n",
              "      <td>C85</td>\n",
              "      <td>C</td>\n",
              "    </tr>\n",
              "    <tr>\n",
              "      <th>2</th>\n",
              "      <td>3</td>\n",
              "      <td>1</td>\n",
              "      <td>3</td>\n",
              "      <td>Heikkinen, Miss. Laina</td>\n",
              "      <td>female</td>\n",
              "      <td>26.0</td>\n",
              "      <td>0</td>\n",
              "      <td>0</td>\n",
              "      <td>STON/O2. 3101282</td>\n",
              "      <td>7.9250</td>\n",
              "      <td>NaN</td>\n",
              "      <td>S</td>\n",
              "    </tr>\n",
              "    <tr>\n",
              "      <th>3</th>\n",
              "      <td>4</td>\n",
              "      <td>1</td>\n",
              "      <td>1</td>\n",
              "      <td>Futrelle, Mrs. Jacques Heath (Lily May Peel)</td>\n",
              "      <td>female</td>\n",
              "      <td>35.0</td>\n",
              "      <td>1</td>\n",
              "      <td>0</td>\n",
              "      <td>113803</td>\n",
              "      <td>53.1000</td>\n",
              "      <td>C123</td>\n",
              "      <td>S</td>\n",
              "    </tr>\n",
              "    <tr>\n",
              "      <th>4</th>\n",
              "      <td>5</td>\n",
              "      <td>0</td>\n",
              "      <td>3</td>\n",
              "      <td>Allen, Mr. William Henry</td>\n",
              "      <td>male</td>\n",
              "      <td>35.0</td>\n",
              "      <td>0</td>\n",
              "      <td>0</td>\n",
              "      <td>373450</td>\n",
              "      <td>8.0500</td>\n",
              "      <td>NaN</td>\n",
              "      <td>S</td>\n",
              "    </tr>\n",
              "  </tbody>\n",
              "</table>\n",
              "</div>"
            ],
            "text/plain": [
              "   PassengerId  Survived  Pclass  \\\n",
              "0            1         0       3   \n",
              "1            2         1       1   \n",
              "2            3         1       3   \n",
              "3            4         1       1   \n",
              "4            5         0       3   \n",
              "\n",
              "                                                Name     Sex   Age  SibSp  \\\n",
              "0                            Braund, Mr. Owen Harris    male  22.0      1   \n",
              "1  Cumings, Mrs. John Bradley (Florence Briggs Th...  female  38.0      1   \n",
              "2                             Heikkinen, Miss. Laina  female  26.0      0   \n",
              "3       Futrelle, Mrs. Jacques Heath (Lily May Peel)  female  35.0      1   \n",
              "4                           Allen, Mr. William Henry    male  35.0      0   \n",
              "\n",
              "   Parch            Ticket     Fare Cabin Embarked  \n",
              "0      0         A/5 21171   7.2500   NaN        S  \n",
              "1      0          PC 17599  71.2833   C85        C  \n",
              "2      0  STON/O2. 3101282   7.9250   NaN        S  \n",
              "3      0            113803  53.1000  C123        S  \n",
              "4      0            373450   8.0500   NaN        S  "
            ]
          },
          "execution_count": 56,
          "metadata": {},
          "output_type": "execute_result"
        }
      ],
      "source": [
        "train_data=pd.read_csv('train.csv')\n",
        "train_data.head()"
      ]
    },
    {
      "cell_type": "code",
      "execution_count": 57,
      "metadata": {
        "colab": {
          "base_uri": "https://localhost:8080/",
          "height": 484
        },
        "id": "C6EyiA1ebZGl",
        "outputId": "1863eb81-78ee-4632-9c46-d7809e2cc930"
      },
      "outputs": [
        {
          "data": {
            "text/html": [
              "<div>\n",
              "<style scoped>\n",
              "    .dataframe tbody tr th:only-of-type {\n",
              "        vertical-align: middle;\n",
              "    }\n",
              "\n",
              "    .dataframe tbody tr th {\n",
              "        vertical-align: top;\n",
              "    }\n",
              "\n",
              "    .dataframe thead th {\n",
              "        text-align: right;\n",
              "    }\n",
              "</style>\n",
              "<table border=\"1\" class=\"dataframe\">\n",
              "  <thead>\n",
              "    <tr style=\"text-align: right;\">\n",
              "      <th></th>\n",
              "      <th>PassengerId</th>\n",
              "      <th>Survived</th>\n",
              "      <th>Pclass</th>\n",
              "      <th>Name</th>\n",
              "      <th>Sex</th>\n",
              "      <th>Age</th>\n",
              "      <th>SibSp</th>\n",
              "      <th>Parch</th>\n",
              "      <th>Ticket</th>\n",
              "      <th>Fare</th>\n",
              "      <th>Cabin</th>\n",
              "      <th>Embarked</th>\n",
              "    </tr>\n",
              "  </thead>\n",
              "  <tbody>\n",
              "    <tr>\n",
              "      <th>0</th>\n",
              "      <td>1</td>\n",
              "      <td>0</td>\n",
              "      <td>3</td>\n",
              "      <td>Braund, Mr. Owen Harris</td>\n",
              "      <td>1</td>\n",
              "      <td>22.0</td>\n",
              "      <td>1</td>\n",
              "      <td>0</td>\n",
              "      <td>A/5 21171</td>\n",
              "      <td>7.2500</td>\n",
              "      <td>0</td>\n",
              "      <td>0.0</td>\n",
              "    </tr>\n",
              "    <tr>\n",
              "      <th>1</th>\n",
              "      <td>2</td>\n",
              "      <td>1</td>\n",
              "      <td>1</td>\n",
              "      <td>Cumings, Mrs. John Bradley (Florence Briggs Th...</td>\n",
              "      <td>0</td>\n",
              "      <td>38.0</td>\n",
              "      <td>1</td>\n",
              "      <td>0</td>\n",
              "      <td>PC 17599</td>\n",
              "      <td>71.2833</td>\n",
              "      <td>C85</td>\n",
              "      <td>1.0</td>\n",
              "    </tr>\n",
              "    <tr>\n",
              "      <th>2</th>\n",
              "      <td>3</td>\n",
              "      <td>1</td>\n",
              "      <td>3</td>\n",
              "      <td>Heikkinen, Miss. Laina</td>\n",
              "      <td>0</td>\n",
              "      <td>26.0</td>\n",
              "      <td>0</td>\n",
              "      <td>0</td>\n",
              "      <td>STON/O2. 3101282</td>\n",
              "      <td>7.9250</td>\n",
              "      <td>0</td>\n",
              "      <td>0.0</td>\n",
              "    </tr>\n",
              "    <tr>\n",
              "      <th>3</th>\n",
              "      <td>4</td>\n",
              "      <td>1</td>\n",
              "      <td>1</td>\n",
              "      <td>Futrelle, Mrs. Jacques Heath (Lily May Peel)</td>\n",
              "      <td>0</td>\n",
              "      <td>35.0</td>\n",
              "      <td>1</td>\n",
              "      <td>0</td>\n",
              "      <td>113803</td>\n",
              "      <td>53.1000</td>\n",
              "      <td>C123</td>\n",
              "      <td>0.0</td>\n",
              "    </tr>\n",
              "    <tr>\n",
              "      <th>4</th>\n",
              "      <td>5</td>\n",
              "      <td>0</td>\n",
              "      <td>3</td>\n",
              "      <td>Allen, Mr. William Henry</td>\n",
              "      <td>1</td>\n",
              "      <td>35.0</td>\n",
              "      <td>0</td>\n",
              "      <td>0</td>\n",
              "      <td>373450</td>\n",
              "      <td>8.0500</td>\n",
              "      <td>0</td>\n",
              "      <td>0.0</td>\n",
              "    </tr>\n",
              "  </tbody>\n",
              "</table>\n",
              "</div>"
            ],
            "text/plain": [
              "   PassengerId  Survived  Pclass  \\\n",
              "0            1         0       3   \n",
              "1            2         1       1   \n",
              "2            3         1       3   \n",
              "3            4         1       1   \n",
              "4            5         0       3   \n",
              "\n",
              "                                                Name  Sex   Age  SibSp  Parch  \\\n",
              "0                            Braund, Mr. Owen Harris    1  22.0      1      0   \n",
              "1  Cumings, Mrs. John Bradley (Florence Briggs Th...    0  38.0      1      0   \n",
              "2                             Heikkinen, Miss. Laina    0  26.0      0      0   \n",
              "3       Futrelle, Mrs. Jacques Heath (Lily May Peel)    0  35.0      1      0   \n",
              "4                           Allen, Mr. William Henry    1  35.0      0      0   \n",
              "\n",
              "             Ticket     Fare Cabin  Embarked  \n",
              "0         A/5 21171   7.2500     0       0.0  \n",
              "1          PC 17599  71.2833   C85       1.0  \n",
              "2  STON/O2. 3101282   7.9250     0       0.0  \n",
              "3            113803  53.1000  C123       0.0  \n",
              "4            373450   8.0500     0       0.0  "
            ]
          },
          "execution_count": 57,
          "metadata": {},
          "output_type": "execute_result"
        }
      ],
      "source": [
        "train_data=train_data.replace(['female','male'],[0,1])\n",
        "train_data=train_data.replace(['S','C','Q'],[0,1,2])\n",
        "tarin_data=train_data.fillna(0,inplace=True)\n",
        "train_data.head()"
      ]
    },
    {
      "cell_type": "code",
      "execution_count": 58,
      "metadata": {
        "colab": {
          "base_uri": "https://localhost:8080/"
        },
        "id": "2upJ21E8ckLI",
        "outputId": "ce37d12d-0a77-4813-d90a-4dc9b8307496"
      },
      "outputs": [
        {
          "name": "stdout",
          "output_type": "stream",
          "text": [
            "(891, 7) (891, 1)\n"
          ]
        }
      ],
      "source": [
        "Y_train=train_data[['Survived']]\n",
        "X_train=train_data[['Pclass','Sex','Age','SibSp','Parch','Fare','Embarked']]\n",
        "Y_train=np.array(Y_train)\n",
        "X_train=np.array(X_train)\n",
        "print(X_train.shape,Y_train.shape)"
      ]
    },
    {
      "cell_type": "code",
      "execution_count": 59,
      "metadata": {
        "colab": {
          "base_uri": "https://localhost:8080/",
          "height": 206
        },
        "id": "E4mc9j2iyB0M",
        "outputId": "c431d9f7-d8fa-4d64-bf5f-72405b8de954"
      },
      "outputs": [
        {
          "data": {
            "text/html": [
              "<div>\n",
              "<style scoped>\n",
              "    .dataframe tbody tr th:only-of-type {\n",
              "        vertical-align: middle;\n",
              "    }\n",
              "\n",
              "    .dataframe tbody tr th {\n",
              "        vertical-align: top;\n",
              "    }\n",
              "\n",
              "    .dataframe thead th {\n",
              "        text-align: right;\n",
              "    }\n",
              "</style>\n",
              "<table border=\"1\" class=\"dataframe\">\n",
              "  <thead>\n",
              "    <tr style=\"text-align: right;\">\n",
              "      <th></th>\n",
              "      <th>Pclass</th>\n",
              "      <th>Sex</th>\n",
              "      <th>Age</th>\n",
              "      <th>SibSp</th>\n",
              "      <th>Parch</th>\n",
              "      <th>Fare</th>\n",
              "      <th>Embarked</th>\n",
              "    </tr>\n",
              "  </thead>\n",
              "  <tbody>\n",
              "    <tr>\n",
              "      <th>0</th>\n",
              "      <td>3</td>\n",
              "      <td>1</td>\n",
              "      <td>34.5</td>\n",
              "      <td>0</td>\n",
              "      <td>0</td>\n",
              "      <td>7.8292</td>\n",
              "      <td>2</td>\n",
              "    </tr>\n",
              "    <tr>\n",
              "      <th>1</th>\n",
              "      <td>3</td>\n",
              "      <td>0</td>\n",
              "      <td>47.0</td>\n",
              "      <td>1</td>\n",
              "      <td>0</td>\n",
              "      <td>7.0000</td>\n",
              "      <td>0</td>\n",
              "    </tr>\n",
              "    <tr>\n",
              "      <th>2</th>\n",
              "      <td>2</td>\n",
              "      <td>1</td>\n",
              "      <td>62.0</td>\n",
              "      <td>0</td>\n",
              "      <td>0</td>\n",
              "      <td>9.6875</td>\n",
              "      <td>2</td>\n",
              "    </tr>\n",
              "    <tr>\n",
              "      <th>3</th>\n",
              "      <td>3</td>\n",
              "      <td>1</td>\n",
              "      <td>27.0</td>\n",
              "      <td>0</td>\n",
              "      <td>0</td>\n",
              "      <td>8.6625</td>\n",
              "      <td>0</td>\n",
              "    </tr>\n",
              "    <tr>\n",
              "      <th>4</th>\n",
              "      <td>3</td>\n",
              "      <td>0</td>\n",
              "      <td>22.0</td>\n",
              "      <td>1</td>\n",
              "      <td>1</td>\n",
              "      <td>12.2875</td>\n",
              "      <td>0</td>\n",
              "    </tr>\n",
              "  </tbody>\n",
              "</table>\n",
              "</div>"
            ],
            "text/plain": [
              "   Pclass  Sex   Age  SibSp  Parch     Fare  Embarked\n",
              "0       3    1  34.5      0      0   7.8292         2\n",
              "1       3    0  47.0      1      0   7.0000         0\n",
              "2       2    1  62.0      0      0   9.6875         2\n",
              "3       3    1  27.0      0      0   8.6625         0\n",
              "4       3    0  22.0      1      1  12.2875         0"
            ]
          },
          "execution_count": 59,
          "metadata": {},
          "output_type": "execute_result"
        }
      ],
      "source": [
        "\n",
        "test_data = pd.read_csv('test.csv')\n",
        "test_data = test_data.replace(['female', 'male'], [0, 1])\n",
        "test_data = test_data.replace(['S', 'C', 'Q'], [0, 1, 2])\n",
        "test_data = test_data.fillna(0)\n",
        "X_test = test_data[['Pclass','Sex','Age','SibSp','Parch','Fare','Embarked']]\n",
        "test = pd.read_csv('gender_submission.csv')\n",
        "Y_test = test[['Survived']]\n",
        "\n",
        "X_test.head()\n"
      ]
    },
    {
      "cell_type": "code",
      "execution_count": 60,
      "metadata": {
        "colab": {
          "base_uri": "https://localhost:8080/"
        },
        "id": "ZIvvpMl-zpeu",
        "outputId": "5f72b3d0-d7d3-4792-a7c1-c24edd960ab8"
      },
      "outputs": [
        {
          "name": "stdout",
          "output_type": "stream",
          "text": [
            "(418, 7) (418, 1)\n"
          ]
        }
      ],
      "source": [
        "\n",
        "print(X_test.shape,Y_test.shape)"
      ]
    },
    {
      "cell_type": "code",
      "execution_count": 61,
      "metadata": {},
      "outputs": [],
      "source": [
        "train_dataset = tf.data.Dataset.from_tensor_slices((X_train, Y_train)).shuffle(10).batch(8)\n",
        "test_dataset = tf.data.Dataset.from_tensor_slices((X_test, Y_test)).batch(8)"
      ]
    },
    {
      "cell_type": "code",
      "execution_count": 62,
      "metadata": {
        "id": "3bZLGMNshziZ"
      },
      "outputs": [],
      "source": [
        "\n",
        "model=tf.keras.models.Sequential([\n",
        "                                  tf.keras.layers.Dense(6,activation='relu'),\n",
        "                                  tf.keras.layers.Dense(16,activation='relu'),\n",
        "                                  tf.keras.layers.Dense(2,activation='softmax')\n",
        "])\n",
        "\n"
      ]
    },
    {
      "cell_type": "code",
      "execution_count": null,
      "metadata": {
        "id": "jkeLT3uUxf_H"
      },
      "outputs": [],
      "source": []
    },
    {
      "cell_type": "code",
      "execution_count": 63,
      "metadata": {
        "id": "X-YpixgMkvKU"
      },
      "outputs": [],
      "source": [
        "model.compile(optimizer=tf.keras.optimizers.Adam(learning_rate=0.001),\n",
        "             loss=tf.losses.sparse_categorical_crossentropy,\n",
        "              metrics=['accuracy'])\n",
        "\n"
      ]
    },
    {
      "cell_type": "code",
      "execution_count": 64,
      "metadata": {
        "colab": {
          "base_uri": "https://localhost:8080/"
        },
        "id": "mplSP_kjlhkY",
        "outputId": "c56b50a7-c2b7-4ebd-a854-a7775728ce74"
      },
      "outputs": [
        {
          "name": "stdout",
          "output_type": "stream",
          "text": [
            "(891, 7) (891, 1)\n",
            "(418, 7) (418, 1)\n",
            "Epoch 1/200\n"
          ]
        },
        {
          "name": "stdout",
          "output_type": "stream",
          "text": [
            "28/28 [==============================] - 2s 2ms/step - loss: 2.7293 - accuracy: 0.4186\n",
            "Epoch 2/200\n",
            "28/28 [==============================] - 0s 2ms/step - loss: 1.1738 - accuracy: 0.4456\n",
            "Epoch 3/200\n",
            "28/28 [==============================] - 0s 2ms/step - loss: 0.6924 - accuracy: 0.6465\n",
            "Epoch 4/200\n",
            "28/28 [==============================] - 0s 2ms/step - loss: 0.6572 - accuracy: 0.6532\n",
            "Epoch 5/200\n",
            "28/28 [==============================] - 0s 2ms/step - loss: 0.6383 - accuracy: 0.6566\n",
            "Epoch 6/200\n",
            "28/28 [==============================] - 0s 3ms/step - loss: 0.6274 - accuracy: 0.6532\n",
            "Epoch 7/200\n",
            "28/28 [==============================] - 0s 2ms/step - loss: 0.6190 - accuracy: 0.6465\n",
            "Epoch 8/200\n",
            "28/28 [==============================] - 0s 2ms/step - loss: 0.6099 - accuracy: 0.6465\n",
            "Epoch 9/200\n",
            "28/28 [==============================] - 0s 2ms/step - loss: 0.6044 - accuracy: 0.6498\n",
            "Epoch 10/200\n",
            "28/28 [==============================] - 0s 3ms/step - loss: 0.5993 - accuracy: 0.6498\n",
            "Epoch 11/200\n",
            "28/28 [==============================] - 0s 3ms/step - loss: 0.5953 - accuracy: 0.6554\n",
            "Epoch 12/200\n",
            "28/28 [==============================] - 0s 3ms/step - loss: 0.5900 - accuracy: 0.6554\n",
            "Epoch 13/200\n",
            "28/28 [==============================] - 0s 2ms/step - loss: 0.5881 - accuracy: 0.6655\n",
            "Epoch 14/200\n",
            "28/28 [==============================] - 0s 2ms/step - loss: 0.5848 - accuracy: 0.6712\n",
            "Epoch 15/200\n",
            "28/28 [==============================] - 0s 2ms/step - loss: 0.5826 - accuracy: 0.6723\n",
            "Epoch 16/200\n",
            "28/28 [==============================] - 0s 3ms/step - loss: 0.5813 - accuracy: 0.6768\n",
            "Epoch 17/200\n",
            "28/28 [==============================] - 0s 3ms/step - loss: 0.5788 - accuracy: 0.6768\n",
            "Epoch 18/200\n",
            "28/28 [==============================] - 0s 5ms/step - loss: 0.5782 - accuracy: 0.6813\n",
            "Epoch 19/200\n",
            "28/28 [==============================] - 0s 3ms/step - loss: 0.5742 - accuracy: 0.6880\n",
            "Epoch 20/200\n",
            "28/28 [==============================] - 0s 3ms/step - loss: 0.5744 - accuracy: 0.6914\n",
            "Epoch 21/200\n",
            "28/28 [==============================] - 0s 3ms/step - loss: 0.5770 - accuracy: 0.6835\n",
            "Epoch 22/200\n",
            "28/28 [==============================] - 0s 3ms/step - loss: 0.5724 - accuracy: 0.6846\n",
            "Epoch 23/200\n",
            "28/28 [==============================] - 0s 3ms/step - loss: 0.5702 - accuracy: 0.6857\n",
            "Epoch 24/200\n",
            "28/28 [==============================] - 0s 3ms/step - loss: 0.5685 - accuracy: 0.6902\n",
            "Epoch 25/200\n",
            "28/28 [==============================] - 0s 4ms/step - loss: 0.5656 - accuracy: 0.6880\n",
            "Epoch 26/200\n",
            "28/28 [==============================] - 0s 3ms/step - loss: 0.5688 - accuracy: 0.6981\n",
            "Epoch 27/200\n",
            "28/28 [==============================] - 0s 3ms/step - loss: 0.5634 - accuracy: 0.6981\n",
            "Epoch 28/200\n",
            "28/28 [==============================] - 0s 3ms/step - loss: 0.5629 - accuracy: 0.7082\n",
            "Epoch 29/200\n",
            "28/28 [==============================] - 0s 3ms/step - loss: 0.5598 - accuracy: 0.7093\n",
            "Epoch 30/200\n",
            "28/28 [==============================] - 0s 3ms/step - loss: 0.5575 - accuracy: 0.7037\n",
            "Epoch 31/200\n",
            "28/28 [==============================] - 0s 3ms/step - loss: 0.5567 - accuracy: 0.7093\n",
            "Epoch 32/200\n",
            "28/28 [==============================] - 0s 3ms/step - loss: 0.5566 - accuracy: 0.7093\n",
            "Epoch 33/200\n",
            "28/28 [==============================] - 0s 2ms/step - loss: 0.5570 - accuracy: 0.7026\n",
            "Epoch 34/200\n",
            "28/28 [==============================] - 0s 2ms/step - loss: 0.5633 - accuracy: 0.7116\n",
            "Epoch 35/200\n",
            "28/28 [==============================] - 0s 2ms/step - loss: 0.5542 - accuracy: 0.7127\n",
            "Epoch 36/200\n",
            "28/28 [==============================] - 0s 3ms/step - loss: 0.5492 - accuracy: 0.7104\n",
            "Epoch 37/200\n",
            "28/28 [==============================] - 0s 3ms/step - loss: 0.5485 - accuracy: 0.7127\n",
            "Epoch 38/200\n",
            "28/28 [==============================] - 0s 3ms/step - loss: 0.5466 - accuracy: 0.7160\n",
            "Epoch 39/200\n",
            "28/28 [==============================] - 0s 3ms/step - loss: 0.5464 - accuracy: 0.7149\n",
            "Epoch 40/200\n",
            "28/28 [==============================] - 0s 3ms/step - loss: 0.5464 - accuracy: 0.7183\n",
            "Epoch 41/200\n",
            "28/28 [==============================] - 0s 3ms/step - loss: 0.5427 - accuracy: 0.7138\n",
            "Epoch 42/200\n",
            "28/28 [==============================] - 0s 3ms/step - loss: 0.5430 - accuracy: 0.7172\n",
            "Epoch 43/200\n",
            "28/28 [==============================] - 0s 3ms/step - loss: 0.5392 - accuracy: 0.7183\n",
            "Epoch 44/200\n",
            "28/28 [==============================] - 0s 3ms/step - loss: 0.5419 - accuracy: 0.7250\n",
            "Epoch 45/200\n",
            "28/28 [==============================] - 0s 3ms/step - loss: 0.5374 - accuracy: 0.7183\n",
            "Epoch 46/200\n",
            "28/28 [==============================] - 0s 6ms/step - loss: 0.5403 - accuracy: 0.7172\n",
            "Epoch 47/200\n",
            "28/28 [==============================] - 0s 4ms/step - loss: 0.5326 - accuracy: 0.7284\n",
            "Epoch 48/200\n",
            "28/28 [==============================] - 0s 3ms/step - loss: 0.5327 - accuracy: 0.7183\n",
            "Epoch 49/200\n",
            "28/28 [==============================] - 0s 2ms/step - loss: 0.5306 - accuracy: 0.7329\n",
            "Epoch 50/200\n",
            "28/28 [==============================] - 0s 2ms/step - loss: 0.5302 - accuracy: 0.7262\n",
            "Epoch 51/200\n",
            "28/28 [==============================] - 0s 4ms/step - loss: 0.5285 - accuracy: 0.7250\n",
            "Epoch 52/200\n",
            "28/28 [==============================] - 0s 4ms/step - loss: 0.5263 - accuracy: 0.7250\n",
            "Epoch 53/200\n",
            "28/28 [==============================] - 0s 3ms/step - loss: 0.5264 - accuracy: 0.7318\n",
            "Epoch 54/200\n",
            "28/28 [==============================] - 0s 3ms/step - loss: 0.5226 - accuracy: 0.7340\n",
            "Epoch 55/200\n",
            "28/28 [==============================] - 0s 3ms/step - loss: 0.5229 - accuracy: 0.7273\n",
            "Epoch 56/200\n",
            "28/28 [==============================] - 0s 2ms/step - loss: 0.5224 - accuracy: 0.7351\n",
            "Epoch 57/200\n",
            "28/28 [==============================] - 0s 2ms/step - loss: 0.5198 - accuracy: 0.7340\n",
            "Epoch 58/200\n",
            "28/28 [==============================] - 0s 3ms/step - loss: 0.5164 - accuracy: 0.7396\n",
            "Epoch 59/200\n",
            "28/28 [==============================] - 0s 3ms/step - loss: 0.5188 - accuracy: 0.7385\n",
            "Epoch 60/200\n",
            "28/28 [==============================] - 0s 3ms/step - loss: 0.5152 - accuracy: 0.7419\n",
            "Epoch 61/200\n",
            "28/28 [==============================] - 0s 2ms/step - loss: 0.5103 - accuracy: 0.7553\n",
            "Epoch 62/200\n",
            "28/28 [==============================] - 0s 2ms/step - loss: 0.5099 - accuracy: 0.7520\n",
            "Epoch 63/200\n",
            "28/28 [==============================] - 0s 2ms/step - loss: 0.5071 - accuracy: 0.7598\n",
            "Epoch 64/200\n",
            "28/28 [==============================] - 0s 2ms/step - loss: 0.5059 - accuracy: 0.7542\n",
            "Epoch 65/200\n",
            "28/28 [==============================] - 0s 3ms/step - loss: 0.5108 - accuracy: 0.7508\n",
            "Epoch 66/200\n",
            "28/28 [==============================] - 0s 2ms/step - loss: 0.5065 - accuracy: 0.7520\n",
            "Epoch 67/200\n",
            "28/28 [==============================] - 0s 2ms/step - loss: 0.5064 - accuracy: 0.7565\n",
            "Epoch 68/200\n",
            "28/28 [==============================] - 0s 2ms/step - loss: 0.5003 - accuracy: 0.7565\n",
            "Epoch 69/200\n",
            "28/28 [==============================] - 0s 2ms/step - loss: 0.5042 - accuracy: 0.7632\n",
            "Epoch 70/200\n",
            "28/28 [==============================] - 0s 3ms/step - loss: 0.5030 - accuracy: 0.7598\n",
            "Epoch 71/200\n",
            "28/28 [==============================] - 0s 3ms/step - loss: 0.5032 - accuracy: 0.7609\n",
            "Epoch 72/200\n",
            "28/28 [==============================] - 0s 3ms/step - loss: 0.5013 - accuracy: 0.7587\n",
            "Epoch 73/200\n",
            "28/28 [==============================] - 0s 4ms/step - loss: 0.5020 - accuracy: 0.7598\n",
            "Epoch 74/200\n",
            "28/28 [==============================] - 0s 5ms/step - loss: 0.5006 - accuracy: 0.7598\n",
            "Epoch 75/200\n",
            "28/28 [==============================] - 0s 2ms/step - loss: 0.4952 - accuracy: 0.7587\n",
            "Epoch 76/200\n",
            "28/28 [==============================] - 0s 2ms/step - loss: 0.4940 - accuracy: 0.7632\n",
            "Epoch 77/200\n",
            "28/28 [==============================] - 0s 2ms/step - loss: 0.4902 - accuracy: 0.7565\n",
            "Epoch 78/200\n",
            "28/28 [==============================] - 0s 2ms/step - loss: 0.4902 - accuracy: 0.7587\n",
            "Epoch 79/200\n",
            "28/28 [==============================] - 0s 2ms/step - loss: 0.4904 - accuracy: 0.7643\n",
            "Epoch 80/200\n",
            "28/28 [==============================] - 0s 2ms/step - loss: 0.4916 - accuracy: 0.7632\n",
            "Epoch 81/200\n",
            "28/28 [==============================] - 0s 3ms/step - loss: 0.4887 - accuracy: 0.7632\n",
            "Epoch 82/200\n",
            "28/28 [==============================] - 0s 3ms/step - loss: 0.4870 - accuracy: 0.7699\n",
            "Epoch 83/200\n",
            "28/28 [==============================] - 0s 3ms/step - loss: 0.4870 - accuracy: 0.7621\n",
            "Epoch 84/200\n",
            "28/28 [==============================] - 0s 2ms/step - loss: 0.4885 - accuracy: 0.7755\n",
            "Epoch 85/200\n",
            "28/28 [==============================] - 0s 2ms/step - loss: 0.4977 - accuracy: 0.7643\n",
            "Epoch 86/200\n",
            "28/28 [==============================] - 0s 2ms/step - loss: 0.4867 - accuracy: 0.7733\n",
            "Epoch 87/200\n",
            "28/28 [==============================] - 0s 2ms/step - loss: 0.4894 - accuracy: 0.7666\n",
            "Epoch 88/200\n",
            "28/28 [==============================] - 0s 3ms/step - loss: 0.4865 - accuracy: 0.7733\n",
            "Epoch 89/200\n",
            "28/28 [==============================] - 0s 3ms/step - loss: 0.4881 - accuracy: 0.7688\n",
            "Epoch 90/200\n",
            "28/28 [==============================] - 0s 3ms/step - loss: 0.4875 - accuracy: 0.7654\n",
            "Epoch 91/200\n",
            "28/28 [==============================] - 0s 2ms/step - loss: 0.4877 - accuracy: 0.7677\n",
            "Epoch 92/200\n",
            "28/28 [==============================] - 0s 2ms/step - loss: 0.4899 - accuracy: 0.7565\n",
            "Epoch 93/200\n",
            "28/28 [==============================] - 0s 2ms/step - loss: 0.4845 - accuracy: 0.7710\n",
            "Epoch 94/200\n",
            "28/28 [==============================] - 0s 2ms/step - loss: 0.4833 - accuracy: 0.7699\n",
            "Epoch 95/200\n",
            "28/28 [==============================] - 0s 2ms/step - loss: 0.4882 - accuracy: 0.7699\n",
            "Epoch 96/200\n",
            "28/28 [==============================] - 0s 2ms/step - loss: 0.4829 - accuracy: 0.7688\n",
            "Epoch 97/200\n",
            "28/28 [==============================] - 0s 2ms/step - loss: 0.4861 - accuracy: 0.7688\n",
            "Epoch 98/200\n",
            "28/28 [==============================] - 0s 2ms/step - loss: 0.4825 - accuracy: 0.7654\n",
            "Epoch 99/200\n",
            "28/28 [==============================] - 0s 2ms/step - loss: 0.4890 - accuracy: 0.7632\n",
            "Epoch 100/200\n",
            "28/28 [==============================] - 0s 2ms/step - loss: 0.4891 - accuracy: 0.7666\n",
            "Epoch 101/200\n",
            "28/28 [==============================] - 0s 2ms/step - loss: 0.4858 - accuracy: 0.7621\n",
            "Epoch 102/200\n",
            "28/28 [==============================] - 0s 2ms/step - loss: 0.4847 - accuracy: 0.7733\n",
            "Epoch 103/200\n",
            "28/28 [==============================] - 0s 2ms/step - loss: 0.4843 - accuracy: 0.7722\n",
            "Epoch 104/200\n",
            "28/28 [==============================] - 0s 2ms/step - loss: 0.4860 - accuracy: 0.7710\n",
            "Epoch 105/200\n",
            "28/28 [==============================] - 0s 2ms/step - loss: 0.4857 - accuracy: 0.7710\n",
            "Epoch 106/200\n",
            "28/28 [==============================] - 0s 2ms/step - loss: 0.4848 - accuracy: 0.7621\n",
            "Epoch 107/200\n",
            "28/28 [==============================] - 0s 2ms/step - loss: 0.4827 - accuracy: 0.7755\n",
            "Epoch 108/200\n",
            "28/28 [==============================] - 0s 2ms/step - loss: 0.4808 - accuracy: 0.7778\n",
            "Epoch 109/200\n",
            "28/28 [==============================] - 0s 2ms/step - loss: 0.4847 - accuracy: 0.7677\n",
            "Epoch 110/200\n",
            "28/28 [==============================] - 0s 2ms/step - loss: 0.4789 - accuracy: 0.7778\n",
            "Epoch 111/200\n",
            "28/28 [==============================] - 0s 2ms/step - loss: 0.4861 - accuracy: 0.7643\n",
            "Epoch 112/200\n",
            "28/28 [==============================] - 0s 2ms/step - loss: 0.4902 - accuracy: 0.7654\n",
            "Epoch 113/200\n",
            "28/28 [==============================] - 0s 3ms/step - loss: 0.4828 - accuracy: 0.7710\n",
            "Epoch 114/200\n",
            "28/28 [==============================] - 0s 3ms/step - loss: 0.4816 - accuracy: 0.7654\n",
            "Epoch 115/200\n",
            "28/28 [==============================] - 0s 3ms/step - loss: 0.4806 - accuracy: 0.7755\n",
            "Epoch 116/200\n",
            "28/28 [==============================] - 0s 2ms/step - loss: 0.4787 - accuracy: 0.7722\n",
            "Epoch 117/200\n",
            "28/28 [==============================] - 0s 2ms/step - loss: 0.4797 - accuracy: 0.7722\n",
            "Epoch 118/200\n",
            "28/28 [==============================] - 0s 2ms/step - loss: 0.4785 - accuracy: 0.7699\n",
            "Epoch 119/200\n",
            "28/28 [==============================] - 0s 3ms/step - loss: 0.4790 - accuracy: 0.7710\n",
            "Epoch 120/200\n",
            "28/28 [==============================] - 0s 3ms/step - loss: 0.4816 - accuracy: 0.7688\n",
            "Epoch 121/200\n",
            "28/28 [==============================] - 0s 2ms/step - loss: 0.4850 - accuracy: 0.7677\n",
            "Epoch 122/200\n",
            "28/28 [==============================] - 0s 5ms/step - loss: 0.4762 - accuracy: 0.7778\n",
            "Epoch 123/200\n",
            "28/28 [==============================] - 0s 3ms/step - loss: 0.4813 - accuracy: 0.7744\n",
            "Epoch 124/200\n",
            "28/28 [==============================] - 0s 2ms/step - loss: 0.4970 - accuracy: 0.7632\n",
            "Epoch 125/200\n",
            "28/28 [==============================] - 0s 2ms/step - loss: 0.4831 - accuracy: 0.7699\n",
            "Epoch 126/200\n",
            "28/28 [==============================] - 0s 2ms/step - loss: 0.4776 - accuracy: 0.7722\n",
            "Epoch 127/200\n",
            "28/28 [==============================] - 0s 2ms/step - loss: 0.4761 - accuracy: 0.7778\n",
            "Epoch 128/200\n",
            "28/28 [==============================] - 0s 2ms/step - loss: 0.4777 - accuracy: 0.7744\n",
            "Epoch 129/200\n",
            "28/28 [==============================] - 0s 2ms/step - loss: 0.4821 - accuracy: 0.7699\n",
            "Epoch 130/200\n",
            "28/28 [==============================] - 0s 2ms/step - loss: 0.4764 - accuracy: 0.7778\n",
            "Epoch 131/200\n",
            "28/28 [==============================] - 0s 2ms/step - loss: 0.4781 - accuracy: 0.7733\n",
            "Epoch 132/200\n",
            "28/28 [==============================] - 0s 2ms/step - loss: 0.4771 - accuracy: 0.7710\n",
            "Epoch 133/200\n",
            "28/28 [==============================] - 0s 2ms/step - loss: 0.4757 - accuracy: 0.7710\n",
            "Epoch 134/200\n",
            "28/28 [==============================] - 0s 2ms/step - loss: 0.4774 - accuracy: 0.7722\n",
            "Epoch 135/200\n",
            "28/28 [==============================] - 0s 2ms/step - loss: 0.4779 - accuracy: 0.7688\n",
            "Epoch 136/200\n",
            "28/28 [==============================] - 0s 3ms/step - loss: 0.4838 - accuracy: 0.7744\n",
            "Epoch 137/200\n",
            "28/28 [==============================] - 0s 3ms/step - loss: 0.4789 - accuracy: 0.7722\n",
            "Epoch 138/200\n",
            "28/28 [==============================] - 0s 3ms/step - loss: 0.4772 - accuracy: 0.7800\n",
            "Epoch 139/200\n",
            "28/28 [==============================] - 0s 2ms/step - loss: 0.4778 - accuracy: 0.7632\n",
            "Epoch 140/200\n",
            "28/28 [==============================] - 0s 2ms/step - loss: 0.4734 - accuracy: 0.7778\n",
            "Epoch 141/200\n",
            "28/28 [==============================] - 0s 2ms/step - loss: 0.4759 - accuracy: 0.7800\n",
            "Epoch 142/200\n",
            "28/28 [==============================] - 0s 2ms/step - loss: 0.4818 - accuracy: 0.7778\n",
            "Epoch 143/200\n",
            "28/28 [==============================] - 0s 3ms/step - loss: 0.4741 - accuracy: 0.7778\n",
            "Epoch 144/200\n",
            "28/28 [==============================] - 0s 3ms/step - loss: 0.4744 - accuracy: 0.7755\n",
            "Epoch 145/200\n",
            "28/28 [==============================] - 0s 3ms/step - loss: 0.4768 - accuracy: 0.7688\n",
            "Epoch 146/200\n",
            "28/28 [==============================] - 0s 2ms/step - loss: 0.4738 - accuracy: 0.7699\n",
            "Epoch 147/200\n",
            "28/28 [==============================] - 0s 2ms/step - loss: 0.4727 - accuracy: 0.7733\n",
            "Epoch 148/200\n",
            "28/28 [==============================] - 0s 2ms/step - loss: 0.4748 - accuracy: 0.7699\n",
            "Epoch 149/200\n",
            "28/28 [==============================] - 0s 2ms/step - loss: 0.4778 - accuracy: 0.7767\n",
            "Epoch 150/200\n",
            "28/28 [==============================] - 0s 3ms/step - loss: 0.4778 - accuracy: 0.7755\n",
            "Epoch 151/200\n",
            "28/28 [==============================] - 0s 3ms/step - loss: 0.4732 - accuracy: 0.7811\n",
            "Epoch 152/200\n",
            "28/28 [==============================] - 0s 3ms/step - loss: 0.4679 - accuracy: 0.7834\n",
            "Epoch 153/200\n",
            "28/28 [==============================] - 0s 3ms/step - loss: 0.4736 - accuracy: 0.7811\n",
            "Epoch 154/200\n",
            "28/28 [==============================] - 0s 2ms/step - loss: 0.4757 - accuracy: 0.7778\n",
            "Epoch 155/200\n",
            "28/28 [==============================] - 0s 2ms/step - loss: 0.4727 - accuracy: 0.7845\n",
            "Epoch 156/200\n",
            "28/28 [==============================] - 0s 2ms/step - loss: 0.4702 - accuracy: 0.7834\n",
            "Epoch 157/200\n",
            "28/28 [==============================] - 0s 2ms/step - loss: 0.4686 - accuracy: 0.7868\n",
            "Epoch 158/200\n",
            "28/28 [==============================] - 0s 2ms/step - loss: 0.4676 - accuracy: 0.7834\n",
            "Epoch 159/200\n",
            "28/28 [==============================] - 0s 5ms/step - loss: 0.4679 - accuracy: 0.7845\n",
            "Epoch 160/200\n",
            "28/28 [==============================] - 0s 2ms/step - loss: 0.4676 - accuracy: 0.7800\n",
            "Epoch 161/200\n",
            "28/28 [==============================] - 0s 2ms/step - loss: 0.4678 - accuracy: 0.7868\n",
            "Epoch 162/200\n",
            "28/28 [==============================] - 0s 2ms/step - loss: 0.4680 - accuracy: 0.7856\n",
            "Epoch 163/200\n",
            "28/28 [==============================] - 0s 2ms/step - loss: 0.4661 - accuracy: 0.7879\n",
            "Epoch 164/200\n",
            "28/28 [==============================] - 0s 2ms/step - loss: 0.4656 - accuracy: 0.7935\n",
            "Epoch 165/200\n",
            "28/28 [==============================] - 0s 2ms/step - loss: 0.4634 - accuracy: 0.7912\n",
            "Epoch 166/200\n",
            "28/28 [==============================] - 0s 2ms/step - loss: 0.4622 - accuracy: 0.7879\n",
            "Epoch 167/200\n",
            "28/28 [==============================] - 0s 3ms/step - loss: 0.4590 - accuracy: 0.7946\n",
            "Epoch 168/200\n",
            "28/28 [==============================] - 0s 3ms/step - loss: 0.4581 - accuracy: 0.8002\n",
            "Epoch 169/200\n",
            "28/28 [==============================] - 0s 3ms/step - loss: 0.4553 - accuracy: 0.8070\n",
            "Epoch 170/200\n",
            "28/28 [==============================] - 0s 2ms/step - loss: 0.4512 - accuracy: 0.8081\n",
            "Epoch 171/200\n",
            "28/28 [==============================] - 0s 2ms/step - loss: 0.4565 - accuracy: 0.8025\n",
            "Epoch 172/200\n",
            "28/28 [==============================] - 0s 2ms/step - loss: 0.4529 - accuracy: 0.8047\n",
            "Epoch 173/200\n",
            "28/28 [==============================] - 0s 2ms/step - loss: 0.4442 - accuracy: 0.8148\n",
            "Epoch 174/200\n",
            "28/28 [==============================] - 0s 2ms/step - loss: 0.4410 - accuracy: 0.8148\n",
            "Epoch 175/200\n",
            "28/28 [==============================] - 0s 2ms/step - loss: 0.4381 - accuracy: 0.8238\n",
            "Epoch 176/200\n",
            "28/28 [==============================] - 0s 2ms/step - loss: 0.4381 - accuracy: 0.8126\n",
            "Epoch 177/200\n",
            "28/28 [==============================] - 0s 2ms/step - loss: 0.4363 - accuracy: 0.8148\n",
            "Epoch 178/200\n",
            "28/28 [==============================] - 0s 2ms/step - loss: 0.4384 - accuracy: 0.8103\n",
            "Epoch 179/200\n",
            "28/28 [==============================] - 0s 2ms/step - loss: 0.4370 - accuracy: 0.8148\n",
            "Epoch 180/200\n",
            "28/28 [==============================] - 0s 2ms/step - loss: 0.4318 - accuracy: 0.8260\n",
            "Epoch 181/200\n",
            "28/28 [==============================] - 0s 2ms/step - loss: 0.4317 - accuracy: 0.8249\n",
            "Epoch 182/200\n",
            "28/28 [==============================] - 0s 3ms/step - loss: 0.4325 - accuracy: 0.8193\n",
            "Epoch 183/200\n",
            "28/28 [==============================] - 0s 3ms/step - loss: 0.4349 - accuracy: 0.8204\n",
            "Epoch 184/200\n",
            "28/28 [==============================] - 0s 3ms/step - loss: 0.4296 - accuracy: 0.8182\n",
            "Epoch 185/200\n",
            "28/28 [==============================] - 0s 2ms/step - loss: 0.4338 - accuracy: 0.8193\n",
            "Epoch 186/200\n",
            "28/28 [==============================] - 0s 2ms/step - loss: 0.4380 - accuracy: 0.8215\n",
            "Epoch 187/200\n",
            "28/28 [==============================] - 0s 2ms/step - loss: 0.4368 - accuracy: 0.8171\n",
            "Epoch 188/200\n",
            "28/28 [==============================] - 0s 2ms/step - loss: 0.4367 - accuracy: 0.8171\n",
            "Epoch 189/200\n",
            "28/28 [==============================] - 0s 3ms/step - loss: 0.4274 - accuracy: 0.8193\n",
            "Epoch 190/200\n",
            "28/28 [==============================] - 0s 3ms/step - loss: 0.4332 - accuracy: 0.8227\n",
            "Epoch 191/200\n",
            "28/28 [==============================] - 0s 3ms/step - loss: 0.4313 - accuracy: 0.8215\n",
            "Epoch 192/200\n",
            "28/28 [==============================] - 0s 3ms/step - loss: 0.4282 - accuracy: 0.8249\n",
            "Epoch 193/200\n",
            "28/28 [==============================] - 0s 3ms/step - loss: 0.4253 - accuracy: 0.8272\n",
            "Epoch 194/200\n",
            "28/28 [==============================] - 0s 3ms/step - loss: 0.4273 - accuracy: 0.8182\n",
            "Epoch 195/200\n",
            "28/28 [==============================] - 0s 3ms/step - loss: 0.4274 - accuracy: 0.8272\n",
            "Epoch 196/200\n",
            "28/28 [==============================] - 0s 3ms/step - loss: 0.4254 - accuracy: 0.8272\n",
            "Epoch 197/200\n",
            "28/28 [==============================] - 0s 8ms/step - loss: 0.4275 - accuracy: 0.8260\n",
            "Epoch 198/200\n",
            "28/28 [==============================] - 0s 3ms/step - loss: 0.4248 - accuracy: 0.8238\n",
            "Epoch 199/200\n",
            "28/28 [==============================] - 0s 2ms/step - loss: 0.4325 - accuracy: 0.8193\n",
            "Epoch 200/200\n",
            "28/28 [==============================] - 0s 2ms/step - loss: 0.4277 - accuracy: 0.8272\n"
          ]
        }
      ],
      "source": [
        "print(X_train.shape,Y_train.shape)\n",
        "print(X_test.shape,Y_test.shape)\n",
        "output=model.fit(X_train,Y_train,epochs=200)"
      ]
    },
    {
      "cell_type": "code",
      "execution_count": 65,
      "metadata": {
        "colab": {
          "base_uri": "https://localhost:8080/",
          "height": 279
        },
        "id": "NtmaBbynm8jq",
        "outputId": "1c205987-4cda-4a73-839a-64e708196b1b"
      },
      "outputs": [
        {
          "data": {
            "image/png": "[encoded data removed]",
            "text/plain": [
              "<Figure size 640x480 with 1 Axes>"
            ]
          },
          "metadata": {},
          "output_type": "display_data"
        }
      ],
      "source": [
        "plt.plot(output.history['loss'])\n",
        "plt.plot(output.history['accuracy'])\n",
        "plt.xlabel('epoch')\n",
        "plt.legend(['loss', 'accuracy'], loc='upper right')\n",
        "plt.title('MLP algorithm for Titanic problem')\n",
        "plt.show()"
      ]
    },
    {
      "cell_type": "code",
      "execution_count": 66,
      "metadata": {
        "colab": {
          "base_uri": "https://localhost:8080/"
        },
        "id": "5qtEuNgCnzhy",
        "outputId": "86126735-450e-4a7b-feee-3a3cdc261009"
      },
      "outputs": [
        {
          "name": "stderr",
          "output_type": "stream",
          "text": [
            "/home/parisa/.local/lib/python3.10/site-packages/keras/src/engine/training.py:3103: UserWarning: You are saving your model as an HDF5 file via `model.save()`. This file format is considered legacy. We recommend using instead the native Keras format, e.g. `model.save('my_model.keras')`.\n",
            "  saving_api.save_model(\n"
          ]
        }
      ],
      "source": [
        "\n",
        "model.save('titanic.h5')"
      ]
    },
    {
      "cell_type": "code",
      "execution_count": 67,
      "metadata": {},
      "outputs": [],
      "source": [
        "model=tf.keras.models.load_model('titanic.h5')"
      ]
    },
    {
      "cell_type": "code",
      "execution_count": 68,
      "metadata": {
        "colab": {
          "base_uri": "https://localhost:8080/"
        },
        "id": "7j8aYBS_po0s",
        "outputId": "fee53dbf-357f-4724-fd2e-047aa28d2b98"
      },
      "outputs": [
        {
          "name": "stdout",
          "output_type": "stream",
          "text": [
            "14/14 [==============================] - 0s 3ms/step - loss: 0.3485 - accuracy: 0.8708\n"
          ]
        },
        {
          "data": {
            "text/plain": [
              "[0.34846705198287964, 0.8708133697509766]"
            ]
          },
          "execution_count": 68,
          "metadata": {},
          "output_type": "execute_result"
        }
      ],
      "source": [
        "\n",
        "model.evaluate(X_test,Y_test)\n"
      ]
    },
    {
      "cell_type": "code",
      "execution_count": 69,
      "metadata": {
        "colab": {
          "base_uri": "https://localhost:8080/"
        },
        "id": "pB9k2ZpqvnQF",
        "outputId": "c4d06f19-f3eb-41e7-dd16-d4c34b9a98b9"
      },
      "outputs": [
        {
          "name": "stdout",
          "output_type": "stream",
          "text": [
            "1/1 [==============================] - 0s 123ms/step\n",
            "Survived\n"
          ]
        }
      ],
      "source": [
        "#predict if the passenger survived\n",
        "pred=[[2,0,34,0,1,54.3900,2]]\n",
        "y_pred=np.argmax(model.predict(pred))\n",
        "if y_pred==1:\n",
        "  print('Survived')\n",
        "else:\n",
        "    print('Not Survived')  \n"
      ]
    },
    {
      "cell_type": "code",
      "execution_count": 70,
      "metadata": {},
      "outputs": [],
      "source": [
        "class MyModel(tf.keras.Model):\n",
        "    def __init__(self):\n",
        "        super().__init__()\n",
        "        self.d1 = Dense(6, activation = \"relu\")\n",
        "        self.d2 = Dense(16, activation = \"relu\")\n",
        "        self.d3 = Dense(2 ,activation = \"softmax\")\n",
        "\n",
        "    def call(self, x):\n",
        "        x = self.d1(x)\n",
        "        x = self.d2(x)\n",
        "        x = self.d3(x)\n",
        "\n",
        "        return x\n",
        "\n",
        "model = MyModel()"
      ]
    },
    {
      "cell_type": "code",
      "execution_count": 71,
      "metadata": {},
      "outputs": [],
      "source": [
        "loss_function = tf.keras.losses.SparseCategoricalCrossentropy(from_logits = True)\n",
        "optimizer = tf.keras.optimizers.Adam()"
      ]
    },
    {
      "cell_type": "code",
      "execution_count": 72,
      "metadata": {},
      "outputs": [],
      "source": [
        "train_loss = tf.keras.metrics.Mean()\n",
        "test_loss = tf.keras.metrics.Mean()\n",
        "\n",
        "train_accuracy = tf.keras.metrics.SparseCategoricalAccuracy()\n",
        "test_accuracy = tf.keras.metrics.SparseCategoricalAccuracy()"
      ]
    },
    {
      "cell_type": "code",
      "execution_count": 73,
      "metadata": {},
      "outputs": [],
      "source": [
        "@tf.function\n",
        "def train(X_train, Y_train):\n",
        "  with tf.GradientTape() as tape:\n",
        "      pred = model(X_train)\n",
        "      loss = loss_function(Y_train, pred)\n",
        "\n",
        "  gradients = tape.gradient(loss, model.trainable_variables)\n",
        "  optimizer.apply_gradients(zip(gradients, model.trainable_variables))\n",
        "  train_loss(loss)\n",
        "  train_accuracy(Y_train, pred)"
      ]
    },
    {
      "cell_type": "code",
      "execution_count": 74,
      "metadata": {},
      "outputs": [],
      "source": [
        "@tf.function\n",
        "def test(X_test, Y_test):\n",
        "  pred = model(X_test)\n",
        "  loss = loss_function(Y_test, pred)\n",
        "  test_loss(loss)\n",
        "  test_accuracy(Y_test, pred)"
      ]
    },
    {
      "cell_type": "code",
      "execution_count": 75,
      "metadata": {},
      "outputs": [
        {
          "name": "stderr",
          "output_type": "stream",
          "text": [
            "  0%|          | 0/50 [00:00<?, ?it/s]"
          ]
        },
        {
          "name": "stderr",
          "output_type": "stream",
          "text": [
            "/home/parisa/.local/lib/python3.10/site-packages/keras/src/backend.py:5727: UserWarning: \"`sparse_categorical_crossentropy` received `from_logits=True`, but the `output` argument was produced by a Softmax activation and thus does not represent logits. Was this intended?\n",
            "  output, from_logits = _get_logits(\n",
            "  2%|▏         | 1/50 [00:02<02:26,  2.98s/it]"
          ]
        },
        {
          "name": "stdout",
          "output_type": "stream",
          "text": [
            "Epoch : 1 , Train Loss : 1.176470398902893 , Train Acuuracy : 0.5140292048454285 , Test Loss : 0.6413077712059021 , Test Accuracy : 0.6363636255264282\n"
          ]
        },
        {
          "name": "stderr",
          "output_type": "stream",
          "text": [
            "  4%|▍         | 2/50 [00:03<01:11,  1.49s/it]"
          ]
        },
        {
          "name": "stdout",
          "output_type": "stream",
          "text": [
            "Epoch : 2 , Train Loss : 0.6228109002113342 , Train Acuuracy : 0.650954008102417 , Test Loss : 0.6124295592308044 , Test Accuracy : 0.6483253836631775\n"
          ]
        },
        {
          "name": "stderr",
          "output_type": "stream",
          "text": [
            "  6%|▌         | 3/50 [00:03<00:45,  1.03it/s]"
          ]
        },
        {
          "name": "stdout",
          "output_type": "stream",
          "text": [
            "Epoch : 3 , Train Loss : 0.5919656753540039 , Train Acuuracy : 0.683501660823822 , Test Loss : 0.6121317148208618 , Test Accuracy : 0.6578947305679321\n"
          ]
        },
        {
          "name": "stderr",
          "output_type": "stream",
          "text": [
            "  8%|▊         | 4/50 [00:04<00:32,  1.41it/s]"
          ]
        },
        {
          "name": "stdout",
          "output_type": "stream",
          "text": [
            "Epoch : 4 , Train Loss : 0.5850586891174316 , Train Acuuracy : 0.6879910230636597 , Test Loss : 0.6308020353317261 , Test Accuracy : 0.6507176756858826\n"
          ]
        },
        {
          "name": "stderr",
          "output_type": "stream",
          "text": [
            " 10%|█         | 5/50 [00:04<00:25,  1.77it/s]"
          ]
        },
        {
          "name": "stdout",
          "output_type": "stream",
          "text": [
            "Epoch : 5 , Train Loss : 0.5888320207595825 , Train Acuuracy : 0.6936026811599731 , Test Loss : 0.5966229438781738 , Test Accuracy : 0.6626794338226318\n"
          ]
        },
        {
          "name": "stderr",
          "output_type": "stream",
          "text": [
            " 12%|█▏        | 6/50 [00:04<00:23,  1.86it/s]"
          ]
        },
        {
          "name": "stdout",
          "output_type": "stream",
          "text": [
            "Epoch : 6 , Train Loss : 0.5775560736656189 , Train Acuuracy : 0.7037037014961243 , Test Loss : 0.5906170606613159 , Test Accuracy : 0.6889952421188354\n"
          ]
        },
        {
          "name": "stderr",
          "output_type": "stream",
          "text": [
            " 14%|█▍        | 7/50 [00:05<00:21,  1.99it/s]"
          ]
        },
        {
          "name": "stdout",
          "output_type": "stream",
          "text": [
            "Epoch : 7 , Train Loss : 0.5740108489990234 , Train Acuuracy : 0.7014590501785278 , Test Loss : 0.5851025581359863 , Test Accuracy : 0.6842105388641357\n"
          ]
        },
        {
          "name": "stderr",
          "output_type": "stream",
          "text": [
            " 16%|█▌        | 8/50 [00:05<00:19,  2.14it/s]"
          ]
        },
        {
          "name": "stdout",
          "output_type": "stream",
          "text": [
            "Epoch : 8 , Train Loss : 0.5688415765762329 , Train Acuuracy : 0.6992143392562866 , Test Loss : 0.5771875381469727 , Test Accuracy : 0.6889952421188354\n"
          ]
        },
        {
          "name": "stderr",
          "output_type": "stream",
          "text": [
            " 18%|█▊        | 9/50 [00:06<00:18,  2.21it/s]"
          ]
        },
        {
          "name": "stdout",
          "output_type": "stream",
          "text": [
            "Epoch : 9 , Train Loss : 0.5654348731040955 , Train Acuuracy : 0.7025813460350037 , Test Loss : 0.5698189735412598 , Test Accuracy : 0.6913875341415405\n"
          ]
        },
        {
          "name": "stderr",
          "output_type": "stream",
          "text": [
            " 20%|██        | 10/50 [00:06<00:16,  2.47it/s]"
          ]
        },
        {
          "name": "stdout",
          "output_type": "stream",
          "text": [
            "Epoch : 10 , Train Loss : 0.5623764395713806 , Train Acuuracy : 0.7025813460350037 , Test Loss : 0.564181387424469 , Test Accuracy : 0.6937798857688904\n"
          ]
        },
        {
          "name": "stderr",
          "output_type": "stream",
          "text": [
            " 22%|██▏       | 11/50 [00:06<00:14,  2.66it/s]"
          ]
        },
        {
          "name": "stdout",
          "output_type": "stream",
          "text": [
            "Epoch : 11 , Train Loss : 0.5602074861526489 , Train Acuuracy : 0.7070707082748413 , Test Loss : 0.5563353896141052 , Test Accuracy : 0.6985645890235901\n"
          ]
        },
        {
          "name": "stderr",
          "output_type": "stream",
          "text": [
            " 24%|██▍       | 12/50 [00:07<00:13,  2.87it/s]"
          ]
        },
        {
          "name": "stdout",
          "output_type": "stream",
          "text": [
            "Epoch : 12 , Train Loss : 0.5597568154335022 , Train Acuuracy : 0.7070707082748413 , Test Loss : 0.5504640340805054 , Test Accuracy : 0.7009569406509399\n"
          ]
        },
        {
          "name": "stderr",
          "output_type": "stream",
          "text": [
            " 26%|██▌       | 13/50 [00:07<00:13,  2.83it/s]"
          ]
        },
        {
          "name": "stdout",
          "output_type": "stream",
          "text": [
            "Epoch : 13 , Train Loss : 0.5547647476196289 , Train Acuuracy : 0.7093153595924377 , Test Loss : 0.5449001789093018 , Test Accuracy : 0.7009569406509399\n"
          ]
        },
        {
          "name": "stderr",
          "output_type": "stream",
          "text": [
            " 28%|██▊       | 14/50 [00:07<00:12,  2.91it/s]"
          ]
        },
        {
          "name": "stdout",
          "output_type": "stream",
          "text": [
            "Epoch : 14 , Train Loss : 0.5526461601257324 , Train Acuuracy : 0.7126823663711548 , Test Loss : 0.5389954447746277 , Test Accuracy : 0.7009569406509399\n"
          ]
        },
        {
          "name": "stderr",
          "output_type": "stream",
          "text": [
            " 30%|███       | 15/50 [00:07<00:11,  3.08it/s]"
          ]
        },
        {
          "name": "stdout",
          "output_type": "stream",
          "text": [
            "Epoch : 15 , Train Loss : 0.5481607913970947 , Train Acuuracy : 0.7104377150535583 , Test Loss : 0.5321874618530273 , Test Accuracy : 0.7009569406509399\n"
          ]
        },
        {
          "name": "stderr",
          "output_type": "stream",
          "text": [
            " 32%|███▏      | 16/50 [00:08<00:10,  3.21it/s]"
          ]
        },
        {
          "name": "stdout",
          "output_type": "stream",
          "text": [
            "Epoch : 16 , Train Loss : 0.5434747934341431 , Train Acuuracy : 0.7160493731498718 , Test Loss : 0.5246148109436035 , Test Accuracy : 0.7057416439056396\n"
          ]
        },
        {
          "name": "stderr",
          "output_type": "stream",
          "text": [
            " 34%|███▍      | 17/50 [00:08<00:10,  3.04it/s]"
          ]
        },
        {
          "name": "stdout",
          "output_type": "stream",
          "text": [
            "Epoch : 17 , Train Loss : 0.54022616147995 , Train Acuuracy : 0.7205387353897095 , Test Loss : 0.5170327425003052 , Test Accuracy : 0.7129186391830444\n"
          ]
        },
        {
          "name": "stderr",
          "output_type": "stream",
          "text": [
            " 36%|███▌      | 18/50 [00:08<00:10,  2.95it/s]"
          ]
        },
        {
          "name": "stdout",
          "output_type": "stream",
          "text": [
            "Epoch : 18 , Train Loss : 0.5348743200302124 , Train Acuuracy : 0.7373737096786499 , Test Loss : 0.5052267909049988 , Test Accuracy : 0.720095694065094\n"
          ]
        },
        {
          "name": "stderr",
          "output_type": "stream",
          "text": [
            " 38%|███▊      | 19/50 [00:09<00:11,  2.78it/s]"
          ]
        },
        {
          "name": "stdout",
          "output_type": "stream",
          "text": [
            "Epoch : 19 , Train Loss : 0.5271349549293518 , Train Acuuracy : 0.7340067625045776 , Test Loss : 0.49717506766319275 , Test Accuracy : 0.7272727489471436\n"
          ]
        },
        {
          "name": "stderr",
          "output_type": "stream",
          "text": [
            " 40%|████      | 20/50 [00:10<00:13,  2.19it/s]"
          ]
        },
        {
          "name": "stdout",
          "output_type": "stream",
          "text": [
            "Epoch : 20 , Train Loss : 0.5238837599754333 , Train Acuuracy : 0.7340067625045776 , Test Loss : 0.4852220416069031 , Test Accuracy : 0.7344497442245483\n"
          ]
        },
        {
          "name": "stderr",
          "output_type": "stream",
          "text": [
            " 42%|████▏     | 21/50 [00:10<00:13,  2.19it/s]"
          ]
        },
        {
          "name": "stdout",
          "output_type": "stream",
          "text": [
            "Epoch : 21 , Train Loss : 0.5166186094284058 , Train Acuuracy : 0.7418630719184875 , Test Loss : 0.47197139263153076 , Test Accuracy : 0.7416267991065979\n"
          ]
        },
        {
          "name": "stderr",
          "output_type": "stream",
          "text": [
            " 44%|████▍     | 22/50 [00:11<00:13,  2.12it/s]"
          ]
        },
        {
          "name": "stdout",
          "output_type": "stream",
          "text": [
            "Epoch : 22 , Train Loss : 0.5113650560379028 , Train Acuuracy : 0.7463524341583252 , Test Loss : 0.45770615339279175 , Test Accuracy : 0.7440191507339478\n"
          ]
        },
        {
          "name": "stderr",
          "output_type": "stream",
          "text": [
            " 46%|████▌     | 23/50 [00:11<00:11,  2.30it/s]"
          ]
        },
        {
          "name": "stdout",
          "output_type": "stream",
          "text": [
            "Epoch : 23 , Train Loss : 0.5062711834907532 , Train Acuuracy : 0.7586981058120728 , Test Loss : 0.4466407597064972 , Test Accuracy : 0.7703348994255066\n"
          ]
        },
        {
          "name": "stderr",
          "output_type": "stream",
          "text": [
            " 48%|████▊     | 24/50 [00:11<00:10,  2.58it/s]"
          ]
        },
        {
          "name": "stdout",
          "output_type": "stream",
          "text": [
            "Epoch : 24 , Train Loss : 0.49914318323135376 , Train Acuuracy : 0.7766554355621338 , Test Loss : 0.43231096863746643 , Test Accuracy : 0.7942583560943604\n"
          ]
        },
        {
          "name": "stderr",
          "output_type": "stream",
          "text": [
            " 50%|█████     | 25/50 [00:11<00:08,  2.79it/s]"
          ]
        },
        {
          "name": "stdout",
          "output_type": "stream",
          "text": [
            "Epoch : 25 , Train Loss : 0.49614766240119934 , Train Acuuracy : 0.7777777910232544 , Test Loss : 0.4220157861709595 , Test Accuracy : 0.8038277626037598\n"
          ]
        },
        {
          "name": "stderr",
          "output_type": "stream",
          "text": [
            " 52%|█████▏    | 26/50 [00:12<00:08,  2.87it/s]"
          ]
        },
        {
          "name": "stdout",
          "output_type": "stream",
          "text": [
            "Epoch : 26 , Train Loss : 0.4881722331047058 , Train Acuuracy : 0.7833894491195679 , Test Loss : 0.4090782701969147 , Test Accuracy : 0.8301435112953186\n"
          ]
        },
        {
          "name": "stderr",
          "output_type": "stream",
          "text": [
            " 54%|█████▍    | 27/50 [00:12<00:07,  3.04it/s]"
          ]
        },
        {
          "name": "stdout",
          "output_type": "stream",
          "text": [
            "Epoch : 27 , Train Loss : 0.4882538914680481 , Train Acuuracy : 0.7856341004371643 , Test Loss : 0.39271342754364014 , Test Accuracy : 0.8421052694320679\n"
          ]
        },
        {
          "name": "stderr",
          "output_type": "stream",
          "text": [
            " 56%|█████▌    | 28/50 [00:12<00:07,  3.01it/s]"
          ]
        },
        {
          "name": "stdout",
          "output_type": "stream",
          "text": [
            "Epoch : 28 , Train Loss : 0.4833703935146332 , Train Acuuracy : 0.7912458181381226 , Test Loss : 0.3763805031776428 , Test Accuracy : 0.8612440228462219\n"
          ]
        },
        {
          "name": "stderr",
          "output_type": "stream",
          "text": [
            " 58%|█████▊    | 29/50 [00:13<00:06,  3.11it/s]"
          ]
        },
        {
          "name": "stdout",
          "output_type": "stream",
          "text": [
            "Epoch : 29 , Train Loss : 0.4769222140312195 , Train Acuuracy : 0.793490469455719 , Test Loss : 0.35189875960350037 , Test Accuracy : 0.9043062329292297\n"
          ]
        },
        {
          "name": "stderr",
          "output_type": "stream",
          "text": [
            " 60%|██████    | 30/50 [00:13<00:06,  3.23it/s]"
          ]
        },
        {
          "name": "stdout",
          "output_type": "stream",
          "text": [
            "Epoch : 30 , Train Loss : 0.46997880935668945 , Train Acuuracy : 0.7991021275520325 , Test Loss : 0.3458148241043091 , Test Accuracy : 0.9043062329292297\n"
          ]
        },
        {
          "name": "stderr",
          "output_type": "stream",
          "text": [
            " 62%|██████▏   | 31/50 [00:13<00:05,  3.32it/s]"
          ]
        },
        {
          "name": "stdout",
          "output_type": "stream",
          "text": [
            "Epoch : 31 , Train Loss : 0.4691270887851715 , Train Acuuracy : 0.793490469455719 , Test Loss : 0.33477938175201416 , Test Accuracy : 0.9114832282066345\n"
          ]
        },
        {
          "name": "stderr",
          "output_type": "stream",
          "text": [
            " 64%|██████▍   | 32/50 [00:14<00:05,  3.12it/s]"
          ]
        },
        {
          "name": "stdout",
          "output_type": "stream",
          "text": [
            "Epoch : 32 , Train Loss : 0.46661415696144104 , Train Acuuracy : 0.8002244830131531 , Test Loss : 0.32027187943458557 , Test Accuracy : 0.9210526347160339\n"
          ]
        },
        {
          "name": "stderr",
          "output_type": "stream",
          "text": [
            " 66%|██████▌   | 33/50 [00:14<00:05,  3.16it/s]"
          ]
        },
        {
          "name": "stdout",
          "output_type": "stream",
          "text": [
            "Epoch : 33 , Train Loss : 0.46324220299720764 , Train Acuuracy : 0.8024691343307495 , Test Loss : 0.3027147650718689 , Test Accuracy : 0.9234449863433838\n"
          ]
        },
        {
          "name": "stderr",
          "output_type": "stream",
          "text": [
            " 68%|██████▊   | 34/50 [00:14<00:05,  3.12it/s]"
          ]
        },
        {
          "name": "stdout",
          "output_type": "stream",
          "text": [
            "Epoch : 34 , Train Loss : 0.4533819556236267 , Train Acuuracy : 0.804713785648346 , Test Loss : 0.29775184392929077 , Test Accuracy : 0.9186602830886841\n"
          ]
        },
        {
          "name": "stderr",
          "output_type": "stream",
          "text": [
            " 70%|███████   | 35/50 [00:15<00:04,  3.20it/s]"
          ]
        },
        {
          "name": "stdout",
          "output_type": "stream",
          "text": [
            "Epoch : 35 , Train Loss : 0.4552862048149109 , Train Acuuracy : 0.8058361411094666 , Test Loss : 0.2953506410121918 , Test Accuracy : 0.9258373379707336\n"
          ]
        },
        {
          "name": "stderr",
          "output_type": "stream",
          "text": [
            " 72%|███████▏  | 36/50 [00:15<00:04,  3.30it/s]"
          ]
        },
        {
          "name": "stdout",
          "output_type": "stream",
          "text": [
            "Epoch : 36 , Train Loss : 0.45491155982017517 , Train Acuuracy : 0.8058361411094666 , Test Loss : 0.2861206829547882 , Test Accuracy : 0.9306219816207886\n"
          ]
        },
        {
          "name": "stderr",
          "output_type": "stream",
          "text": [
            " 74%|███████▍  | 37/50 [00:15<00:04,  3.10it/s]"
          ]
        },
        {
          "name": "stdout",
          "output_type": "stream",
          "text": [
            "Epoch : 37 , Train Loss : 0.45274361968040466 , Train Acuuracy : 0.7957351207733154 , Test Loss : 0.27711930871009827 , Test Accuracy : 0.940191388130188\n"
          ]
        },
        {
          "name": "stderr",
          "output_type": "stream",
          "text": [
            " 76%|███████▌  | 38/50 [00:16<00:04,  2.88it/s]"
          ]
        },
        {
          "name": "stdout",
          "output_type": "stream",
          "text": [
            "Epoch : 38 , Train Loss : 0.44819387793540955 , Train Acuuracy : 0.8024691343307495 , Test Loss : 0.2776050865650177 , Test Accuracy : 0.9306219816207886\n"
          ]
        },
        {
          "name": "stderr",
          "output_type": "stream",
          "text": [
            " 78%|███████▊  | 39/50 [00:16<00:03,  2.94it/s]"
          ]
        },
        {
          "name": "stdout",
          "output_type": "stream",
          "text": [
            "Epoch : 39 , Train Loss : 0.4495551288127899 , Train Acuuracy : 0.7946127653121948 , Test Loss : 0.2723633348941803 , Test Accuracy : 0.9521530866622925\n"
          ]
        },
        {
          "name": "stderr",
          "output_type": "stream",
          "text": [
            " 80%|████████  | 40/50 [00:16<00:03,  2.89it/s]"
          ]
        },
        {
          "name": "stdout",
          "output_type": "stream",
          "text": [
            "Epoch : 40 , Train Loss : 0.4481872618198395 , Train Acuuracy : 0.793490469455719 , Test Loss : 0.2677950859069824 , Test Accuracy : 0.9449760913848877\n"
          ]
        },
        {
          "name": "stderr",
          "output_type": "stream",
          "text": [
            " 82%|████████▏ | 41/50 [00:17<00:03,  2.98it/s]"
          ]
        },
        {
          "name": "stdout",
          "output_type": "stream",
          "text": [
            "Epoch : 41 , Train Loss : 0.4456629157066345 , Train Acuuracy : 0.793490469455719 , Test Loss : 0.26661354303359985 , Test Accuracy : 0.9497607946395874\n"
          ]
        },
        {
          "name": "stderr",
          "output_type": "stream",
          "text": [
            " 84%|████████▍ | 42/50 [00:17<00:03,  2.22it/s]"
          ]
        },
        {
          "name": "stdout",
          "output_type": "stream",
          "text": [
            "Epoch : 42 , Train Loss : 0.44544363021850586 , Train Acuuracy : 0.7923681139945984 , Test Loss : 0.2613750696182251 , Test Accuracy : 0.9473684430122375\n"
          ]
        },
        {
          "name": "stderr",
          "output_type": "stream",
          "text": [
            " 86%|████████▌ | 43/50 [00:18<00:02,  2.38it/s]"
          ]
        },
        {
          "name": "stdout",
          "output_type": "stream",
          "text": [
            "Epoch : 43 , Train Loss : 0.44540801644325256 , Train Acuuracy : 0.793490469455719 , Test Loss : 0.26639267802238464 , Test Accuracy : 0.9521530866622925\n"
          ]
        },
        {
          "name": "stderr",
          "output_type": "stream",
          "text": [
            " 88%|████████▊ | 44/50 [00:18<00:02,  2.47it/s]"
          ]
        },
        {
          "name": "stdout",
          "output_type": "stream",
          "text": [
            "Epoch : 44 , Train Loss : 0.4452325999736786 , Train Acuuracy : 0.7923681139945984 , Test Loss : 0.26200371980667114 , Test Accuracy : 0.9545454382896423\n"
          ]
        },
        {
          "name": "stderr",
          "output_type": "stream",
          "text": [
            " 90%|█████████ | 45/50 [00:19<00:02,  2.39it/s]"
          ]
        },
        {
          "name": "stdout",
          "output_type": "stream",
          "text": [
            "Epoch : 45 , Train Loss : 0.4422440528869629 , Train Acuuracy : 0.7912458181381226 , Test Loss : 0.2591383159160614 , Test Accuracy : 0.9473684430122375\n"
          ]
        },
        {
          "name": "stderr",
          "output_type": "stream",
          "text": [
            " 92%|█████████▏| 46/50 [00:19<00:01,  2.44it/s]"
          ]
        },
        {
          "name": "stdout",
          "output_type": "stream",
          "text": [
            "Epoch : 46 , Train Loss : 0.44126978516578674 , Train Acuuracy : 0.7923681139945984 , Test Loss : 0.2549543082714081 , Test Accuracy : 0.9473684430122375\n"
          ]
        },
        {
          "name": "stderr",
          "output_type": "stream",
          "text": [
            " 94%|█████████▍| 47/50 [00:19<00:01,  2.46it/s]"
          ]
        },
        {
          "name": "stdout",
          "output_type": "stream",
          "text": [
            "Epoch : 47 , Train Loss : 0.4446369707584381 , Train Acuuracy : 0.7923681139945984 , Test Loss : 0.25690677762031555 , Test Accuracy : 0.940191388130188\n"
          ]
        },
        {
          "name": "stderr",
          "output_type": "stream",
          "text": [
            " 96%|█████████▌| 48/50 [00:20<00:01,  1.91it/s]"
          ]
        },
        {
          "name": "stdout",
          "output_type": "stream",
          "text": [
            "Epoch : 48 , Train Loss : 0.44223690032958984 , Train Acuuracy : 0.7923681139945984 , Test Loss : 0.25366833806037903 , Test Accuracy : 0.9449760913848877\n"
          ]
        },
        {
          "name": "stderr",
          "output_type": "stream",
          "text": [
            " 98%|█████████▊| 49/50 [00:21<00:00,  2.02it/s]"
          ]
        },
        {
          "name": "stdout",
          "output_type": "stream",
          "text": [
            "Epoch : 49 , Train Loss : 0.4433026909828186 , Train Acuuracy : 0.7923681139945984 , Test Loss : 0.25513559579849243 , Test Accuracy : 0.9425837397575378\n"
          ]
        },
        {
          "name": "stderr",
          "output_type": "stream",
          "text": [
            "100%|██████████| 50/50 [00:21<00:00,  2.34it/s]"
          ]
        },
        {
          "name": "stdout",
          "output_type": "stream",
          "text": [
            "Epoch : 50 , Train Loss : 0.44032758474349976 , Train Acuuracy : 0.7946127653121948 , Test Loss : 0.25250768661499023 , Test Accuracy : 0.9473684430122375\n"
          ]
        },
        {
          "name": "stderr",
          "output_type": "stream",
          "text": [
            "\n"
          ]
        }
      ],
      "source": [
        "epochs = 50\n",
        "\n",
        "for epoch in tqdm(range(epochs)):\n",
        "  train_loss.reset_states()\n",
        "  train_accuracy.reset_states()\n",
        "  test_loss.reset_states()\n",
        "  test_accuracy.reset_states()\n",
        "\n",
        "  #train\n",
        "  for X_train, Y_train in train_dataset:\n",
        "    train(X_train, Y_train)\n",
        "\n",
        "\n",
        "  #test\n",
        "  for X_test,Y_test in test_dataset:\n",
        "    test(X_test, Y_test)\n",
        "\n",
        "  print(f\"Epoch : {epoch+1} , Train Loss : {train_loss.result()} , Train Acuuracy : {train_accuracy.result()} , Test Loss : {test_loss.result()} , Test Accuracy : {test_accuracy.result()}\")"
      ]
    },
    {
      "cell_type": "code",
      "execution_count": null,
      "metadata": {},
      "outputs": [],
      "source": [
        "model.save(\"titanic_model\")"
      ]
    },
    {
      "cell_type": "code",
      "execution_count": null,
      "metadata": {},
      "outputs": [],
      "source": [
        "model = tf.keras.models.load_model(\"titanic_model\")"
      ]
    }
  ],
  "metadata": {
    "colab": {
      "collapsed_sections": [],
      "name": "Titanic_Tensorflow.ipynb",
      "provenance": []
    },
    "kernelspec": {
      "display_name": "Python 3",
      "name": "python3"
    },
    "language_info": {
      "codemirror_mode": {
        "name": "ipython",
        "version": 3
      },
      "file_extension": ".py",
      "mimetype": "text/x-python",
      "name": "python",
      "nbconvert_exporter": "python",
      "pygments_lexer": "ipython3",
      "version": "3.10.12"
    }
  },
  "nbformat": 4,
  "nbformat_minor": 0
}
